{
 "metadata": {
  "language_info": {
   "codemirror_mode": {
    "name": "ipython",
    "version": 3
   },
   "file_extension": ".py",
   "mimetype": "text/x-python",
   "name": "python",
   "nbconvert_exporter": "python",
   "pygments_lexer": "ipython3",
   "version": "3.9.6"
  },
  "orig_nbformat": 4,
  "kernelspec": {
   "name": "python3",
   "display_name": "Python 3.9.6 64-bit"
  },
  "interpreter": {
   "hash": "aee8b7b246df8f9039afb4144a1f6fd8d2ca17a180786b69acc140d282b71a49"
  }
 },
 "nbformat": 4,
 "nbformat_minor": 2,
 "cells": [
  {
   "cell_type": "code",
   "execution_count": 13,
   "metadata": {},
   "outputs": [],
   "source": [
    "user_input= input('What is your name?')"
   ]
  },
  {
   "cell_type": "code",
   "execution_count": 21,
   "metadata": {},
   "outputs": [
    {
     "output_type": "stream",
     "name": "stdout",
     "text": [
      "8\n"
     ]
    }
   ],
   "source": [
    "import random\n",
    "random_number = random.randint(1,10)\n",
    "print(random_number)\n"
   ]
  },
  {
   "cell_type": "code",
   "execution_count": null,
   "metadata": {},
   "outputs": [],
   "source": [
    "import random\n",
    "a=int(input('enter a number'))\n",
    "b= random.randint(1,10)\n",
    "while a!=b:\n",
    "    b= int(input('Guess a number between 1 to 10'))\n",
    "\n"
   ]
  },
  {
   "cell_type": "code",
   "execution_count": null,
   "metadata": {},
   "outputs": [],
   "source": [
    "if guess < b:\n",
    "    print('Your guess is too low')\n",
    "    elif guess > b:\n",
    "        print('Your guess is too high')\n",
    "        else:\n",
    "            print('Well guessed')"
   ]
  },
  {
   "cell_type": "code",
   "execution_count": null,
   "metadata": {},
   "outputs": [],
   "source": [
    "    #Task 2\n",
    "    user_input = int(input('favorite number between 1 to 100'))\n",
    "    if user_input == 3\n",
    "       print('Why don't scientists trust atoms? Because they make up everything')\n",
    "       elif user_input == 5\n",
    "       print('Where are average things manufactured? The satisfactory')\n",
    "       elif user_input == 9\n",
    "       print('How does Moses make tea? He brews')\n",
    "       else:\n",
    "           print('Wrong selection')\n"
   ]
  },
  {
   "cell_type": "code",
   "execution_count": null,
   "metadata": {},
   "outputs": [],
   "source": [
    "#Task3\n",
    "user_input = input('Hello what is your favorite starter + main course + dessert + drink')\n",
    "print('Your favorite meal is fish and chips...with a glass of apple juice...and apple pie')"
   ]
  },
  {
   "cell_type": "code",
   "execution_count": null,
   "metadata": {},
   "outputs": [],
   "source": [
    "#Task4\n"
   ]
  },
  {
   "cell_type": "code",
   "execution_count": null,
   "metadata": {},
   "outputs": [],
   "source": [
    "#Task5\n"
   ]
  }
 ]
}